{
 "cells": [
  {
   "cell_type": "markdown",
   "id": "fec20804",
   "metadata": {},
   "source": [
    "# Actividad para el modulo 2"
   ]
  },
  {
   "cell_type": "code",
   "execution_count": 1,
   "id": "488ead8c",
   "metadata": {},
   "outputs": [
    {
     "name": "stdout",
     "output_type": "stream",
     "text": [
      "Digite tres datos separados por un \";\" cada uno\n",
      "el primero debe ser un entero, el segundo un flotante y el tercero una cadena\n",
      "Digite los datos: 12; 7.4; cadena de string\n",
      "El dato a tiene un valor de 12 y es de tipo de <class 'int'>\n",
      "El dato b tiene un valor de  7.4 y es de tipo de <class 'float'>\n",
      "El dato c tiene contiene lo siguiente  cadena de string y es de tipo de <class 'str'>\n"
     ]
    }
   ],
   "source": [
    "print('''Digite tres datos separados por un \";\" cada uno\n",
    "el primero debe ser un entero, el segundo un flotante y el tercero una cadena''')\n",
    "entero,flotante,cadena = input('Digite los datos: ').split(';')\n",
    "print(f'El dato a tiene un valor de {entero} y es de tipo de {type(eval(entero))}')\n",
    "print(f'El dato b tiene un valor de {flotante} y es de tipo de {type(eval(flotante))}')\n",
    "print(f'El dato c tiene contiene lo siguiente {cadena} y es de tipo de {type(cadena)}')"
   ]
  }
 ],
 "metadata": {
  "kernelspec": {
   "display_name": "Python 3 (ipykernel)",
   "language": "python",
   "name": "python3"
  },
  "language_info": {
   "codemirror_mode": {
    "name": "ipython",
    "version": 3
   },
   "file_extension": ".py",
   "mimetype": "text/x-python",
   "name": "python",
   "nbconvert_exporter": "python",
   "pygments_lexer": "ipython3",
   "version": "3.10.6"
  },
  "vscode": {
   "interpreter": {
    "hash": "a9cff5a362bc38ef45d817ae74b1af54d6a076e3d773891282bce078b815ba34"
   }
  }
 },
 "nbformat": 4,
 "nbformat_minor": 5
}
